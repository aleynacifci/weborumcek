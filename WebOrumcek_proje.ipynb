{
  "nbformat": 4,
  "nbformat_minor": 0,
  "metadata": {
    "colab": {
      "provenance": [],
      "authorship_tag": "ABX9TyM02KgWUtE6PY1SfRtECqQQ",
      "include_colab_link": true
    },
    "kernelspec": {
      "name": "python3",
      "display_name": "Python 3"
    },
    "language_info": {
      "name": "python"
    },
    "widgets": {
      "application/vnd.jupyter.widget-state+json": {
        "61083212797f4a0ba801214fd7a1ec46": {
          "model_module": "@jupyter-widgets/controls",
          "model_name": "TextModel",
          "model_module_version": "1.5.0",
          "state": {
            "_dom_classes": [],
            "_model_module": "@jupyter-widgets/controls",
            "_model_module_version": "1.5.0",
            "_model_name": "TextModel",
            "_view_count": null,
            "_view_module": "@jupyter-widgets/controls",
            "_view_module_version": "1.5.0",
            "_view_name": "TextView",
            "continuous_update": true,
            "description": "Web URL:",
            "description_tooltip": null,
            "disabled": false,
            "layout": "IPY_MODEL_3a576eda08fa46bca43d4799f2dff814",
            "placeholder": "​",
            "style": "IPY_MODEL_780e7ac3e50a40af8275730ec66bc0e5",
            "value": "https://dergipark.org.tr/tr/"
          }
        },
        "3a576eda08fa46bca43d4799f2dff814": {
          "model_module": "@jupyter-widgets/base",
          "model_name": "LayoutModel",
          "model_module_version": "1.2.0",
          "state": {
            "_model_module": "@jupyter-widgets/base",
            "_model_module_version": "1.2.0",
            "_model_name": "LayoutModel",
            "_view_count": null,
            "_view_module": "@jupyter-widgets/base",
            "_view_module_version": "1.2.0",
            "_view_name": "LayoutView",
            "align_content": null,
            "align_items": null,
            "align_self": null,
            "border": null,
            "bottom": null,
            "display": null,
            "flex": null,
            "flex_flow": null,
            "grid_area": null,
            "grid_auto_columns": null,
            "grid_auto_flow": null,
            "grid_auto_rows": null,
            "grid_column": null,
            "grid_gap": null,
            "grid_row": null,
            "grid_template_areas": null,
            "grid_template_columns": null,
            "grid_template_rows": null,
            "height": null,
            "justify_content": null,
            "justify_items": null,
            "left": null,
            "margin": null,
            "max_height": null,
            "max_width": null,
            "min_height": null,
            "min_width": null,
            "object_fit": null,
            "object_position": null,
            "order": null,
            "overflow": null,
            "overflow_x": null,
            "overflow_y": null,
            "padding": null,
            "right": null,
            "top": null,
            "visibility": null,
            "width": null
          }
        },
        "780e7ac3e50a40af8275730ec66bc0e5": {
          "model_module": "@jupyter-widgets/controls",
          "model_name": "DescriptionStyleModel",
          "model_module_version": "1.5.0",
          "state": {
            "_model_module": "@jupyter-widgets/controls",
            "_model_module_version": "1.5.0",
            "_model_name": "DescriptionStyleModel",
            "_view_count": null,
            "_view_module": "@jupyter-widgets/base",
            "_view_module_version": "1.2.0",
            "_view_name": "StyleView",
            "description_width": ""
          }
        },
        "25687b04304643a7ad45b1b9c399ec9e": {
          "model_module": "@jupyter-widgets/controls",
          "model_name": "IntSliderModel",
          "model_module_version": "1.5.0",
          "state": {
            "_dom_classes": [],
            "_model_module": "@jupyter-widgets/controls",
            "_model_module_version": "1.5.0",
            "_model_name": "IntSliderModel",
            "_view_count": null,
            "_view_module": "@jupyter-widgets/controls",
            "_view_module_version": "1.5.0",
            "_view_name": "IntSliderView",
            "continuous_update": true,
            "description": "Derinlik Seviyesi:",
            "description_tooltip": null,
            "disabled": false,
            "layout": "IPY_MODEL_10d1711c0de54ea0adc645e5cd55f94f",
            "max": 5,
            "min": 1,
            "orientation": "horizontal",
            "readout": true,
            "readout_format": "d",
            "step": 1,
            "style": "IPY_MODEL_5d3868cecf5343b785f3888b0647aa37",
            "value": 2
          }
        },
        "10d1711c0de54ea0adc645e5cd55f94f": {
          "model_module": "@jupyter-widgets/base",
          "model_name": "LayoutModel",
          "model_module_version": "1.2.0",
          "state": {
            "_model_module": "@jupyter-widgets/base",
            "_model_module_version": "1.2.0",
            "_model_name": "LayoutModel",
            "_view_count": null,
            "_view_module": "@jupyter-widgets/base",
            "_view_module_version": "1.2.0",
            "_view_name": "LayoutView",
            "align_content": null,
            "align_items": null,
            "align_self": null,
            "border": null,
            "bottom": null,
            "display": null,
            "flex": null,
            "flex_flow": null,
            "grid_area": null,
            "grid_auto_columns": null,
            "grid_auto_flow": null,
            "grid_auto_rows": null,
            "grid_column": null,
            "grid_gap": null,
            "grid_row": null,
            "grid_template_areas": null,
            "grid_template_columns": null,
            "grid_template_rows": null,
            "height": null,
            "justify_content": null,
            "justify_items": null,
            "left": null,
            "margin": null,
            "max_height": null,
            "max_width": null,
            "min_height": null,
            "min_width": null,
            "object_fit": null,
            "object_position": null,
            "order": null,
            "overflow": null,
            "overflow_x": null,
            "overflow_y": null,
            "padding": null,
            "right": null,
            "top": null,
            "visibility": null,
            "width": null
          }
        },
        "5d3868cecf5343b785f3888b0647aa37": {
          "model_module": "@jupyter-widgets/controls",
          "model_name": "SliderStyleModel",
          "model_module_version": "1.5.0",
          "state": {
            "_model_module": "@jupyter-widgets/controls",
            "_model_module_version": "1.5.0",
            "_model_name": "SliderStyleModel",
            "_view_count": null,
            "_view_module": "@jupyter-widgets/base",
            "_view_module_version": "1.2.0",
            "_view_name": "StyleView",
            "description_width": "",
            "handle_color": null
          }
        },
        "09605154031349dfad174f89233c0666": {
          "model_module": "@jupyter-widgets/controls",
          "model_name": "ButtonModel",
          "model_module_version": "1.5.0",
          "state": {
            "_dom_classes": [],
            "_model_module": "@jupyter-widgets/controls",
            "_model_module_version": "1.5.0",
            "_model_name": "ButtonModel",
            "_view_count": null,
            "_view_module": "@jupyter-widgets/controls",
            "_view_module_version": "1.5.0",
            "_view_name": "ButtonView",
            "button_style": "",
            "description": "Taramayı Başlat!",
            "disabled": false,
            "icon": "",
            "layout": "IPY_MODEL_4ebcfcd143104e2384b34d609f565c86",
            "style": "IPY_MODEL_09e973214683476fa5f3a290b0e9dad5",
            "tooltip": ""
          }
        },
        "4ebcfcd143104e2384b34d609f565c86": {
          "model_module": "@jupyter-widgets/base",
          "model_name": "LayoutModel",
          "model_module_version": "1.2.0",
          "state": {
            "_model_module": "@jupyter-widgets/base",
            "_model_module_version": "1.2.0",
            "_model_name": "LayoutModel",
            "_view_count": null,
            "_view_module": "@jupyter-widgets/base",
            "_view_module_version": "1.2.0",
            "_view_name": "LayoutView",
            "align_content": null,
            "align_items": null,
            "align_self": null,
            "border": null,
            "bottom": null,
            "display": null,
            "flex": null,
            "flex_flow": null,
            "grid_area": null,
            "grid_auto_columns": null,
            "grid_auto_flow": null,
            "grid_auto_rows": null,
            "grid_column": null,
            "grid_gap": null,
            "grid_row": null,
            "grid_template_areas": null,
            "grid_template_columns": null,
            "grid_template_rows": null,
            "height": null,
            "justify_content": null,
            "justify_items": null,
            "left": null,
            "margin": null,
            "max_height": null,
            "max_width": null,
            "min_height": null,
            "min_width": null,
            "object_fit": null,
            "object_position": null,
            "order": null,
            "overflow": null,
            "overflow_x": null,
            "overflow_y": null,
            "padding": null,
            "right": null,
            "top": null,
            "visibility": null,
            "width": null
          }
        },
        "09e973214683476fa5f3a290b0e9dad5": {
          "model_module": "@jupyter-widgets/controls",
          "model_name": "ButtonStyleModel",
          "model_module_version": "1.5.0",
          "state": {
            "_model_module": "@jupyter-widgets/controls",
            "_model_module_version": "1.5.0",
            "_model_name": "ButtonStyleModel",
            "_view_count": null,
            "_view_module": "@jupyter-widgets/base",
            "_view_module_version": "1.2.0",
            "_view_name": "StyleView",
            "button_color": null,
            "font_weight": ""
          }
        }
      }
    }
  },
  "cells": [
    {
      "cell_type": "markdown",
      "metadata": {
        "id": "view-in-github",
        "colab_type": "text"
      },
      "source": [
        "<a href=\"https://colab.research.google.com/github/aleynacifci/weborumcek/blob/main/WebOrumcek_proje.ipynb\" target=\"_parent\"><img src=\"https://colab.research.google.com/assets/colab-badge.svg\" alt=\"Open In Colab\"/></a>"
      ]
    },
    {
      "cell_type": "code",
      "execution_count": null,
      "metadata": {
        "colab": {
          "base_uri": "https://localhost:8080/",
          "height": 219,
          "referenced_widgets": [
            "61083212797f4a0ba801214fd7a1ec46",
            "3a576eda08fa46bca43d4799f2dff814",
            "780e7ac3e50a40af8275730ec66bc0e5",
            "25687b04304643a7ad45b1b9c399ec9e",
            "10d1711c0de54ea0adc645e5cd55f94f",
            "5d3868cecf5343b785f3888b0647aa37",
            "09605154031349dfad174f89233c0666",
            "4ebcfcd143104e2384b34d609f565c86",
            "09e973214683476fa5f3a290b0e9dad5"
          ]
        },
        "id": "qnwHg3aTCTIv",
        "outputId": "d0891bb7-0038-47c5-893d-5203995a0305"
      },
      "outputs": [
        {
          "output_type": "display_data",
          "data": {
            "text/plain": [
              "Text(value='https://', description='Web URL:')"
            ],
            "application/vnd.jupyter.widget-view+json": {
              "version_major": 2,
              "version_minor": 0,
              "model_id": "61083212797f4a0ba801214fd7a1ec46"
            }
          },
          "metadata": {}
        },
        {
          "output_type": "display_data",
          "data": {
            "text/plain": [
              "IntSlider(value=2, description='Derinlik Seviyesi:', max=5, min=1)"
            ],
            "application/vnd.jupyter.widget-view+json": {
              "version_major": 2,
              "version_minor": 0,
              "model_id": "25687b04304643a7ad45b1b9c399ec9e"
            }
          },
          "metadata": {}
        },
        {
          "output_type": "display_data",
          "data": {
            "text/plain": [
              "Button(description='Taramayı Başlat!', style=ButtonStyle())"
            ],
            "application/vnd.jupyter.widget-view+json": {
              "version_major": 2,
              "version_minor": 0,
              "model_id": "09605154031349dfad174f89233c0666"
            }
          },
          "metadata": {}
        },
        {
          "output_type": "stream",
          "name": "stdout",
          "text": [
            "Adres: https://dergipark.org.tr/tr/\n",
            "Seviye: 2\n",
            "Tarama başlatılıyor...\n",
            "Ziyaret Edilen Sayfa: https://dergipark.org.tr/tr/ - Başlık: Ana Sayfa » DergiPark\n",
            "Ziyaret Edilen Sayfa: https://dergipark.org.tr/tr/ - Başlık: Ana Sayfa » DergiPark\n",
            "Ziyaret Edilen Sayfa: https://dergipark.org.tr/tr/ - Başlık: Ana Sayfa » DergiPark\n"
          ]
        }
      ],
      "source": [
        "import requests\n",
        "from bs4 import BeautifulSoup\n",
        "import ipywidgets as widgets\n",
        "from IPython.display import display\n",
        "import time\n",
        "from urllib.parse import urljoin, urlparse\n",
        "\n",
        "webURL = widgets.Text(value=\"https://\", description=\"Web URL:\")\n",
        "slider = widgets.IntSlider(value=2, min=1, max=5, step=1, description=\"Derinlik Seviyesi:\")\n",
        "buton = widgets.Button(description=\"Taramayı Başlat!\")\n",
        "display(webURL, slider, buton)\n",
        "\n",
        "kayitlar = []\n",
        "\n",
        "def tarama(adres, seviye, derinlik=0):\n",
        "    if derinlik > seviye:\n",
        "        return\n",
        "\n",
        "    try:\n",
        "        response = requests.get(adres, stream=True)\n",
        "        response.raise_for_status()\n",
        "\n",
        "        soup = BeautifulSoup(response.content, 'html.parser')\n",
        "\n",
        "        baslik = soup.title.string if soup.title else 'Başlık yok'\n",
        "        print(f\"Ziyaret Edilen Sayfa: {adres} - Başlık: {baslik}\")\n",
        "\n",
        "\n",
        "        kayitlar.append((adres, baslik))\n",
        "        with open('tarama_kayıt.txt', 'a', encoding='utf-8') as f:\n",
        "            f.write(f\"{adres} - {baslik}\\n\")\n",
        "\n",
        "\n",
        "        linkler = soup.find_all('a', href=True)\n",
        "        for link in linkler:\n",
        "            yeni_adres = urljoin(adres, link['href'])\n",
        "            if yeni_adres.startswith('http'):\n",
        "                time.sleep(1)\n",
        "                tarama(yeni_adres, seviye, derinlik + 1)\n",
        "    except Exception as e:\n",
        "        print(f\"Hata: {e}\")\n",
        "\n",
        "# tarama işlemini başlatma\n",
        "def on_button_clicked(b):\n",
        "    seviye = slider.value\n",
        "    adres = webURL.value\n",
        "    print(f\"Adres: {adres}\")\n",
        "    print(f\"Seviye: {seviye}\")\n",
        "    print(\"Tarama başlatılıyor...\")\n",
        "\n",
        "    # Eski kayıtlardan kurtulmak için dosyayı temizleyerek başlatma\n",
        "    with open('tarama_kayıt.txt', 'w', encoding='utf-8') as f:\n",
        "        f.write(\"Tarama Sonuçları:\\n\")\n",
        "\n",
        "    tarama(adres, seviye)\n",
        "    print(\"Tarama tamamlandı.\")\n",
        "\n",
        "buton.on_click(on_button_clicked)"
      ]
    }
  ]
}